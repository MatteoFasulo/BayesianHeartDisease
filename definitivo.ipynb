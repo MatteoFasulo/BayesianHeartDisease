{
 "cells": [
  {
   "cell_type": "code",
   "execution_count": null,
   "id": "93e0004c-b734-48a3-96f1-5904c25052ea",
   "metadata": {},
   "outputs": [],
   "source": []
  },
  {
   "cell_type": "code",
   "execution_count": null,
   "id": "86399c54-6220-4f6a-b36d-0e96d40f353f",
   "metadata": {},
   "outputs": [],
   "source": []
  },
  {
   "cell_type": "markdown",
   "id": "842a8664-a8b5-4874-965f-831f592b5d3a",
   "metadata": {},
   "source": [
    "# 1. Introduction"
   ]
  },
  {
   "cell_type": "markdown",
   "id": "ae8de4fb-abb4-4bb1-913f-a4db3810adc6",
   "metadata": {},
   "source": [
    "# Heart Disease Risk Assessment using Bayesian Networks\n",
    "\n",
    "### Authors: Matteo Fasulo, Luca Tedeschini, Antonio Gravina, Luca Babboni\n",
    "\n",
    "### Course: Fundamentals of Artificial Intelligence and Knowledge Representation (Mod. 3) - Alma Mater Studiorum Università di Bologna\n",
    "\n",
    "### Overview\n",
    "\n",
    "**Cardiovascular diseases** (CVDs) are the number one cause of death globally, taking an estimated 17.9 million lives each year, which accounts for 32% of all deaths worldwide. Four out of 5 CVD deaths are due to heart attacks and strokes, and one third of these deaths occur prematurely in people under 70 years of age [[1]](#1). \n",
    "\n",
    "The main risk factors for **heart disease** are unhealthy diet, physical inactivity, tobacco use and harmful use of alcohol. The effects may include raised blood pressure, raised blood glucose, raised blood lipids, and overweight and obesity [[1]](#1). Since the 1930s, research has identified diverse **CVD risk factors** [[2]](#2). Notably, the World Health Organization categorizes factors as modifiable (influenced by lifestyle) and non-modifiable [[3]](#3). Interestingly, modifiable factors can be significantly impacted by individual choices and interventions. \n",
    "\n",
    "In this notebook, we will use a **Bayesian Network** to assess the **risk of heart disease** in a patient based on these risk factors. We will face the modelling of **causal relations** between the risk factors and the disease, and we will use the network to make **predictions** about the risk of heart disease in a patient. The aim is to learn a model which **given** the risk factors of a patient as input (**evidence**), can predict the probability of the patient having heart disease. The causal relations between the risk factors and the disease will be both learned from data and from **domain knowledge** found in the **literature** and in **medical guidelines**.\n",
    "\n",
    "The work was inspired by a paper [[4]](#4) in which the authors used a Bayesian Network to assess the risk of heart disease in a patient. Their work guided us in the choice of the risk factors and in the structure of the network. However, we will use a different dataset and we will use a different approach to learn the parameters of the network."
   ]
  },
  {
   "cell_type": "markdown",
   "id": "ed6cc115-1304-43ca-9053-f3fdafa42f8e",
   "metadata": {},
   "source": [
    "# 2. Discretization"
   ]
  },
  {
   "cell_type": "markdown",
   "id": "50257e62-b885-46e3-8660-17e275a1261f",
   "metadata": {},
   "source": [
    "## 2.1 Importing the libraries"
   ]
  },
  {
   "cell_type": "code",
   "execution_count": 1,
   "id": "facda2b6-3bb3-45aa-b7cc-b0885b1b87f6",
   "metadata": {},
   "outputs": [],
   "source": [
    "import os\n",
    "import pandas as pd\n",
    "import matplotlib.pyplot as plt\n",
    "import numpy as np\n",
    "import networkx as nx"
   ]
  },
  {
   "cell_type": "markdown",
   "id": "c22c5f18-d6bf-40be-b2b1-821c371b6a1d",
   "metadata": {},
   "source": [
    "## 2.2 Preprocessing"
   ]
  },
  {
   "cell_type": "code",
   "execution_count": 2,
   "id": "fb77a450-4adf-43d6-a434-a5c9d1ac0ac7",
   "metadata": {},
   "outputs": [],
   "source": [
    "df = pd.read_csv(f'data{os.sep}heart.csv')\n",
    "df = df[~(df['Cholesterol'] == 0) & ~(df['RestingBP'] == 0)]\n",
    "df[\"Age\"] = pd.cut(x=df[\"Age\"], bins=[20, 30, 40, 50, 60, 70, 80], labels=[\n",
    "                   \"20-30\", \"30-40\", \"40-50\", \"50-60\", \"60-70\", \"70-80\"])\n",
    "\n",
    "df[\"RestingBP\"] = pd.cut(x=df[\"RestingBP\"], bins=[90, 120, 140, np.Inf], labels=[\n",
    "                         \"90-120\", \"120-140\", \"140+\"])\n",
    "\n",
    "df[\"Cholesterol\"] = pd.cut(x=df[\"Cholesterol\"], bins=[\n",
    "                           0, 200, 240, np.Inf], labels=[\"<=200\", \"200-240\", \"240+\"])\n",
    "\n",
    "df[\"MaxHR\"] = pd.qcut(x=df[\"MaxHR\"], q=4, labels=[\"low\", \"medium\", \"high\", \"very-high\"]) # binning using quartiles\n",
    "\n",
    "df[\"Oldpeak\"] = pd.cut(x=df[\"Oldpeak\"], bins=[-np.Inf, 0.5, 1, 2, np.Inf], labels=[\n",
    "                       \"<=0.5\", \"0-5-1\", \"1-2\", \"2+\"])"
   ]
  },
  {
   "cell_type": "markdown",
   "id": "3f5c084e-bf95-4b5b-8063-16d7ec314cbb",
   "metadata": {},
   "source": [
    "# 3. Data exploration"
   ]
  },
  {
   "cell_type": "markdown",
   "id": "cc9d2710-00a5-4183-b571-16322028c50b",
   "metadata": {},
   "source": [
    "# 4. Naïve Bayesian"
   ]
  },
  {
   "cell_type": "markdown",
   "id": "2f1bcd3b-5da0-44f2-bf31-61793ebcb6d8",
   "metadata": {},
   "source": [
    "# 5. Improving the Naïve Bayesian network with Hill Climbing with Hill Climbing"
   ]
  },
  {
   "cell_type": "markdown",
   "id": "1bcdda4a-35e5-458a-bf9f-f7d076d96b79",
   "metadata": {},
   "source": [
    "In order to automatize the creation of the network, Hill Climbing has been used. It is an algorithm "
   ]
  },
  {
   "cell_type": "markdown",
   "id": "9323df8b-7e56-4def-a1be-64cfbc8c9597",
   "metadata": {},
   "source": [
    "# 6. Running Hill Climbing from scratch"
   ]
  },
  {
   "cell_type": "markdown",
   "id": "5fb67a03-4dfe-4ab8-a482-294da2934926",
   "metadata": {},
   "source": [
    "# 7. Markov Blanket: creating a network fully aimed to maximize performances"
   ]
  },
  {
   "cell_type": "markdown",
   "id": "77321de6-b51d-48cd-b8ef-d917909a5ebf",
   "metadata": {},
   "source": [
    "# 8. Domain expert advice"
   ]
  },
  {
   "cell_type": "markdown",
   "id": "5bb96924-7746-46d3-8cad-dfa07c692205",
   "metadata": {},
   "source": [
    "# 9. Bayesian network fully explainable"
   ]
  },
  {
   "cell_type": "markdown",
   "id": "f89d5c7b-90c9-4712-ba8a-38988397297d",
   "metadata": {},
   "source": [
    "# 10. Conclusion"
   ]
  },
  {
   "cell_type": "markdown",
   "id": "8f3fcabd-e07a-4a2a-bb60-f316e8030c1b",
   "metadata": {},
   "source": [
    "# 11. References"
   ]
  },
  {
   "cell_type": "code",
   "execution_count": null,
   "id": "78297f05-92ba-4f78-b2d2-b826042bbeac",
   "metadata": {},
   "outputs": [],
   "source": []
  }
 ],
 "metadata": {
  "kernelspec": {
   "display_name": "Python 3 (ipykernel)",
   "language": "python",
   "name": "python3"
  },
  "language_info": {
   "codemirror_mode": {
    "name": "ipython",
    "version": 3
   },
   "file_extension": ".py",
   "mimetype": "text/x-python",
   "name": "python",
   "nbconvert_exporter": "python",
   "pygments_lexer": "ipython3",
   "version": "3.10.13"
  }
 },
 "nbformat": 4,
 "nbformat_minor": 5
}
