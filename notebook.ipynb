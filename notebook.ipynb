{
 "cells": [
  {
   "cell_type": "code",
   "execution_count": 75,
   "metadata": {},
   "outputs": [],
   "source": [
    "import os\n",
    "import pandas as pd\n",
    "import matplotlib.pyplot as plt\n",
    "import numpy as np\n",
    "import airportsdata\n",
    "\n",
    "%matplotlib inline"
   ]
  },
  {
   "cell_type": "code",
   "execution_count": 76,
   "metadata": {},
   "outputs": [
    {
     "data": {
      "text/html": [
       "<div>\n",
       "<style scoped>\n",
       "    .dataframe tbody tr th:only-of-type {\n",
       "        vertical-align: middle;\n",
       "    }\n",
       "\n",
       "    .dataframe tbody tr th {\n",
       "        vertical-align: top;\n",
       "    }\n",
       "\n",
       "    .dataframe thead th {\n",
       "        text-align: right;\n",
       "    }\n",
       "</style>\n",
       "<table border=\"1\" class=\"dataframe\">\n",
       "  <thead>\n",
       "    <tr style=\"text-align: right;\">\n",
       "      <th></th>\n",
       "      <th>Month</th>\n",
       "      <th>DayofMonth</th>\n",
       "      <th>DayOfWeek</th>\n",
       "      <th>DepTime</th>\n",
       "      <th>UniqueCarrier</th>\n",
       "      <th>Origin</th>\n",
       "      <th>Dest</th>\n",
       "      <th>Distance</th>\n",
       "      <th>dep_delayed_15min</th>\n",
       "    </tr>\n",
       "  </thead>\n",
       "  <tbody>\n",
       "    <tr>\n",
       "      <th>0</th>\n",
       "      <td>c-8</td>\n",
       "      <td>c-21</td>\n",
       "      <td>c-7</td>\n",
       "      <td>1934</td>\n",
       "      <td>AA</td>\n",
       "      <td>ATL</td>\n",
       "      <td>DFW</td>\n",
       "      <td>732</td>\n",
       "      <td>N</td>\n",
       "    </tr>\n",
       "    <tr>\n",
       "      <th>1</th>\n",
       "      <td>c-4</td>\n",
       "      <td>c-20</td>\n",
       "      <td>c-3</td>\n",
       "      <td>1548</td>\n",
       "      <td>US</td>\n",
       "      <td>PIT</td>\n",
       "      <td>MCO</td>\n",
       "      <td>834</td>\n",
       "      <td>N</td>\n",
       "    </tr>\n",
       "    <tr>\n",
       "      <th>2</th>\n",
       "      <td>c-9</td>\n",
       "      <td>c-2</td>\n",
       "      <td>c-5</td>\n",
       "      <td>1422</td>\n",
       "      <td>XE</td>\n",
       "      <td>RDU</td>\n",
       "      <td>CLE</td>\n",
       "      <td>416</td>\n",
       "      <td>N</td>\n",
       "    </tr>\n",
       "    <tr>\n",
       "      <th>3</th>\n",
       "      <td>c-11</td>\n",
       "      <td>c-25</td>\n",
       "      <td>c-6</td>\n",
       "      <td>1015</td>\n",
       "      <td>OO</td>\n",
       "      <td>DEN</td>\n",
       "      <td>MEM</td>\n",
       "      <td>872</td>\n",
       "      <td>N</td>\n",
       "    </tr>\n",
       "    <tr>\n",
       "      <th>4</th>\n",
       "      <td>c-10</td>\n",
       "      <td>c-7</td>\n",
       "      <td>c-6</td>\n",
       "      <td>1828</td>\n",
       "      <td>WN</td>\n",
       "      <td>MDW</td>\n",
       "      <td>OMA</td>\n",
       "      <td>423</td>\n",
       "      <td>Y</td>\n",
       "    </tr>\n",
       "  </tbody>\n",
       "</table>\n",
       "</div>"
      ],
      "text/plain": [
       "  Month DayofMonth DayOfWeek  DepTime UniqueCarrier Origin Dest  Distance  \\\n",
       "0   c-8       c-21       c-7     1934            AA    ATL  DFW       732   \n",
       "1   c-4       c-20       c-3     1548            US    PIT  MCO       834   \n",
       "2   c-9        c-2       c-5     1422            XE    RDU  CLE       416   \n",
       "3  c-11       c-25       c-6     1015            OO    DEN  MEM       872   \n",
       "4  c-10        c-7       c-6     1828            WN    MDW  OMA       423   \n",
       "\n",
       "  dep_delayed_15min  \n",
       "0                 N  \n",
       "1                 N  \n",
       "2                 N  \n",
       "3                 N  \n",
       "4                 Y  "
      ]
     },
     "execution_count": 76,
     "metadata": {},
     "output_type": "execute_result"
    }
   ],
   "source": [
    "data = pd.read_csv(f'data{os.sep}flight_delays_train.csv')\n",
    "data.head()"
   ]
  },
  {
   "cell_type": "code",
   "execution_count": 77,
   "metadata": {},
   "outputs": [],
   "source": [
    "df = data.copy()"
   ]
  },
  {
   "cell_type": "markdown",
   "metadata": {},
   "source": [
    "# Preprocessing"
   ]
  },
  {
   "cell_type": "code",
   "execution_count": 78,
   "metadata": {},
   "outputs": [],
   "source": [
    "df['Month'] = data['Month'].apply(lambda x: int(x.split('-')[1]))\n",
    "df['DayofMonth'] = data['DayofMonth'].apply(lambda x: int(x.split('-')[1]))\n",
    "df['DayOfWeek'] = data['DayOfWeek'].apply(lambda x: int(x.split('-')[1]))\n",
    "df['DepTime'] = data['DepTime'].apply(lambda x: x % 2400)"
   ]
  },
  {
   "cell_type": "code",
   "execution_count": 79,
   "metadata": {},
   "outputs": [
    {
     "data": {
      "text/html": [
       "<div>\n",
       "<style scoped>\n",
       "    .dataframe tbody tr th:only-of-type {\n",
       "        vertical-align: middle;\n",
       "    }\n",
       "\n",
       "    .dataframe tbody tr th {\n",
       "        vertical-align: top;\n",
       "    }\n",
       "\n",
       "    .dataframe thead th {\n",
       "        text-align: right;\n",
       "    }\n",
       "</style>\n",
       "<table border=\"1\" class=\"dataframe\">\n",
       "  <thead>\n",
       "    <tr style=\"text-align: right;\">\n",
       "      <th></th>\n",
       "      <th>Month</th>\n",
       "      <th>DayofMonth</th>\n",
       "      <th>DayOfWeek</th>\n",
       "      <th>DepTime</th>\n",
       "      <th>UniqueCarrier</th>\n",
       "      <th>Origin</th>\n",
       "      <th>Dest</th>\n",
       "      <th>Distance</th>\n",
       "      <th>dep_delayed_15min</th>\n",
       "    </tr>\n",
       "  </thead>\n",
       "  <tbody>\n",
       "    <tr>\n",
       "      <th>0</th>\n",
       "      <td>8</td>\n",
       "      <td>21</td>\n",
       "      <td>7</td>\n",
       "      <td>1934</td>\n",
       "      <td>AA</td>\n",
       "      <td>ATL</td>\n",
       "      <td>DFW</td>\n",
       "      <td>732</td>\n",
       "      <td>N</td>\n",
       "    </tr>\n",
       "    <tr>\n",
       "      <th>1</th>\n",
       "      <td>4</td>\n",
       "      <td>20</td>\n",
       "      <td>3</td>\n",
       "      <td>1548</td>\n",
       "      <td>US</td>\n",
       "      <td>PIT</td>\n",
       "      <td>MCO</td>\n",
       "      <td>834</td>\n",
       "      <td>N</td>\n",
       "    </tr>\n",
       "    <tr>\n",
       "      <th>2</th>\n",
       "      <td>9</td>\n",
       "      <td>2</td>\n",
       "      <td>5</td>\n",
       "      <td>1422</td>\n",
       "      <td>XE</td>\n",
       "      <td>RDU</td>\n",
       "      <td>CLE</td>\n",
       "      <td>416</td>\n",
       "      <td>N</td>\n",
       "    </tr>\n",
       "    <tr>\n",
       "      <th>3</th>\n",
       "      <td>11</td>\n",
       "      <td>25</td>\n",
       "      <td>6</td>\n",
       "      <td>1015</td>\n",
       "      <td>OO</td>\n",
       "      <td>DEN</td>\n",
       "      <td>MEM</td>\n",
       "      <td>872</td>\n",
       "      <td>N</td>\n",
       "    </tr>\n",
       "    <tr>\n",
       "      <th>4</th>\n",
       "      <td>10</td>\n",
       "      <td>7</td>\n",
       "      <td>6</td>\n",
       "      <td>1828</td>\n",
       "      <td>WN</td>\n",
       "      <td>MDW</td>\n",
       "      <td>OMA</td>\n",
       "      <td>423</td>\n",
       "      <td>Y</td>\n",
       "    </tr>\n",
       "  </tbody>\n",
       "</table>\n",
       "</div>"
      ],
      "text/plain": [
       "   Month  DayofMonth  DayOfWeek  DepTime UniqueCarrier Origin Dest  Distance  \\\n",
       "0      8          21          7     1934            AA    ATL  DFW       732   \n",
       "1      4          20          3     1548            US    PIT  MCO       834   \n",
       "2      9           2          5     1422            XE    RDU  CLE       416   \n",
       "3     11          25          6     1015            OO    DEN  MEM       872   \n",
       "4     10           7          6     1828            WN    MDW  OMA       423   \n",
       "\n",
       "  dep_delayed_15min  \n",
       "0                 N  \n",
       "1                 N  \n",
       "2                 N  \n",
       "3                 N  \n",
       "4                 Y  "
      ]
     },
     "execution_count": 79,
     "metadata": {},
     "output_type": "execute_result"
    }
   ],
   "source": [
    "df.head()"
   ]
  },
  {
   "cell_type": "code",
   "execution_count": 80,
   "metadata": {},
   "outputs": [],
   "source": [
    "df['DepTime'] = pd.cut(x=df['DepTime'], bins=[0, 600, 1200, 1800, 2399], labels=['Night', 'Morning', 'Afternoon', 'Evening'])"
   ]
  },
  {
   "cell_type": "code",
   "execution_count": 81,
   "metadata": {},
   "outputs": [
    {
     "data": {
      "text/plain": [
       "0          Evening\n",
       "1        Afternoon\n",
       "2        Afternoon\n",
       "3          Morning\n",
       "4          Evening\n",
       "           ...    \n",
       "99995    Afternoon\n",
       "99996      Morning\n",
       "99997      Evening\n",
       "99998    Afternoon\n",
       "99999    Afternoon\n",
       "Name: DepTime, Length: 100000, dtype: category\n",
       "Categories (4, object): ['Night' < 'Morning' < 'Afternoon' < 'Evening']"
      ]
     },
     "execution_count": 81,
     "metadata": {},
     "output_type": "execute_result"
    }
   ],
   "source": [
    "df['DepTime']"
   ]
  },
  {
   "cell_type": "markdown",
   "metadata": {},
   "source": [
    "### Quantile Discretization ?"
   ]
  },
  {
   "cell_type": "code",
   "execution_count": 82,
   "metadata": {},
   "outputs": [],
   "source": [
    "#df['DepTime'] = pd.qcut(x=df['DepTime'], q=4, labels=['Night', 'Morning', 'Afternoon', 'Evening'])"
   ]
  },
  {
   "cell_type": "code",
   "execution_count": 83,
   "metadata": {},
   "outputs": [],
   "source": [
    "#df['DepTime']"
   ]
  },
  {
   "cell_type": "code",
   "execution_count": 84,
   "metadata": {},
   "outputs": [
    {
     "name": "stderr",
     "output_type": "stream",
     "text": [
      "/tmp/ipykernel_5132/1187805376.py:1: FutureWarning: The default of observed=False is deprecated and will be changed to True in a future version of pandas. Pass observed=False to retain current behavior or observed=True to adopt the future default and silence this warning.\n",
      "  df[['DepTime', 'dep_delayed_15min']].groupby(\n"
     ]
    },
    {
     "data": {
      "image/png": "[encoded data removed]",
      "text/plain": [
       "<Figure size 640x480 with 1 Axes>"
      ]
     },
     "metadata": {},
     "output_type": "display_data"
    }
   ],
   "source": [
    "df[['DepTime', 'dep_delayed_15min']].groupby(\n",
    "    'DepTime').value_counts(normalize=True).unstack().plot(kind='bar', stacked=False)\n",
    "plt.show()"
   ]
  },
  {
   "cell_type": "markdown",
   "metadata": {},
   "source": [
    "### Distance"
   ]
  },
  {
   "cell_type": "code",
   "execution_count": 85,
   "metadata": {},
   "outputs": [],
   "source": [
    "df['Distance'] = pd.qcut(x=data['Distance'], q=5, labels=['Very short', 'Short', 'Medium', 'Long', 'Very long'])"
   ]
  },
  {
   "cell_type": "code",
   "execution_count": 86,
   "metadata": {},
   "outputs": [
    {
     "name": "stderr",
     "output_type": "stream",
     "text": [
      "/tmp/ipykernel_5132/1922755979.py:1: FutureWarning: The default of observed=False is deprecated and will be changed to True in a future version of pandas. Pass observed=False to retain current behavior or observed=True to adopt the future default and silence this warning.\n",
      "  df[['Distance', 'dep_delayed_15min']].groupby(\n"
     ]
    },
    {
     "data": {
      "image/png": "[encoded data removed]",
      "text/plain": [
       "<Figure size 640x480 with 1 Axes>"
      ]
     },
     "metadata": {},
     "output_type": "display_data"
    }
   ],
   "source": [
    "df[['Distance', 'dep_delayed_15min']].groupby(\n",
    "    'Distance').value_counts(normalize=True).unstack().plot(kind='bar', stacked=False)\n",
    "plt.show()"
   ]
  },
  {
   "cell_type": "markdown",
   "metadata": {},
   "source": [
    "### Airports"
   ]
  },
  {
   "cell_type": "code",
   "execution_count": 87,
   "metadata": {},
   "outputs": [],
   "source": [
    "airports = airportsdata.load('IATA')"
   ]
  },
  {
   "cell_type": "code",
   "execution_count": 88,
   "metadata": {},
   "outputs": [],
   "source": [
    "def get_airport_location(airport_code):\n",
    "    try:\n",
    "        iata_code = airports[airport_code]['subd']\n",
    "    except KeyError:\n",
    "        if airport_code == 'PFN':\n",
    "            iata_code = 'Florida'\n",
    "        else:\n",
    "            iata_code = 'Unknown'\n",
    "    return iata_code"
   ]
  },
  {
   "cell_type": "code",
   "execution_count": 89,
   "metadata": {},
   "outputs": [],
   "source": [
    "df['Origin'] = data['Origin'].apply(lambda x: get_airport_location(x))\n",
    "df['Dest'] = data['Dest'].apply(lambda x: get_airport_location(x))"
   ]
  },
  {
   "cell_type": "code",
   "execution_count": 90,
   "metadata": {},
   "outputs": [
    {
     "data": {
      "text/html": [
       "<div>\n",
       "<style scoped>\n",
       "    .dataframe tbody tr th:only-of-type {\n",
       "        vertical-align: middle;\n",
       "    }\n",
       "\n",
       "    .dataframe tbody tr th {\n",
       "        vertical-align: top;\n",
       "    }\n",
       "\n",
       "    .dataframe thead th {\n",
       "        text-align: right;\n",
       "    }\n",
       "</style>\n",
       "<table border=\"1\" class=\"dataframe\">\n",
       "  <thead>\n",
       "    <tr style=\"text-align: right;\">\n",
       "      <th></th>\n",
       "      <th>Month</th>\n",
       "      <th>DayofMonth</th>\n",
       "      <th>DayOfWeek</th>\n",
       "      <th>DepTime</th>\n",
       "      <th>UniqueCarrier</th>\n",
       "      <th>Origin</th>\n",
       "      <th>Dest</th>\n",
       "      <th>Distance</th>\n",
       "      <th>dep_delayed_15min</th>\n",
       "    </tr>\n",
       "  </thead>\n",
       "  <tbody>\n",
       "    <tr>\n",
       "      <th>0</th>\n",
       "      <td>8</td>\n",
       "      <td>21</td>\n",
       "      <td>7</td>\n",
       "      <td>Evening</td>\n",
       "      <td>AA</td>\n",
       "      <td>Georgia</td>\n",
       "      <td>Texas</td>\n",
       "      <td>Long</td>\n",
       "      <td>N</td>\n",
       "    </tr>\n",
       "    <tr>\n",
       "      <th>1</th>\n",
       "      <td>4</td>\n",
       "      <td>20</td>\n",
       "      <td>3</td>\n",
       "      <td>Afternoon</td>\n",
       "      <td>US</td>\n",
       "      <td>Pennsylvania</td>\n",
       "      <td>Florida</td>\n",
       "      <td>Long</td>\n",
       "      <td>N</td>\n",
       "    </tr>\n",
       "    <tr>\n",
       "      <th>2</th>\n",
       "      <td>9</td>\n",
       "      <td>2</td>\n",
       "      <td>5</td>\n",
       "      <td>Afternoon</td>\n",
       "      <td>XE</td>\n",
       "      <td>North Carolina</td>\n",
       "      <td>Ohio</td>\n",
       "      <td>Short</td>\n",
       "      <td>N</td>\n",
       "    </tr>\n",
       "    <tr>\n",
       "      <th>3</th>\n",
       "      <td>11</td>\n",
       "      <td>25</td>\n",
       "      <td>6</td>\n",
       "      <td>Morning</td>\n",
       "      <td>OO</td>\n",
       "      <td>Colorado</td>\n",
       "      <td>Tennessee</td>\n",
       "      <td>Long</td>\n",
       "      <td>N</td>\n",
       "    </tr>\n",
       "    <tr>\n",
       "      <th>4</th>\n",
       "      <td>10</td>\n",
       "      <td>7</td>\n",
       "      <td>6</td>\n",
       "      <td>Evening</td>\n",
       "      <td>WN</td>\n",
       "      <td>Illinois</td>\n",
       "      <td>Nebraska</td>\n",
       "      <td>Short</td>\n",
       "      <td>Y</td>\n",
       "    </tr>\n",
       "  </tbody>\n",
       "</table>\n",
       "</div>"
      ],
      "text/plain": [
       "   Month  DayofMonth  DayOfWeek    DepTime UniqueCarrier          Origin  \\\n",
       "0      8          21          7    Evening            AA         Georgia   \n",
       "1      4          20          3  Afternoon            US    Pennsylvania   \n",
       "2      9           2          5  Afternoon            XE  North Carolina   \n",
       "3     11          25          6    Morning            OO        Colorado   \n",
       "4     10           7          6    Evening            WN        Illinois   \n",
       "\n",
       "        Dest Distance dep_delayed_15min  \n",
       "0      Texas     Long                 N  \n",
       "1    Florida     Long                 N  \n",
       "2       Ohio    Short                 N  \n",
       "3  Tennessee     Long                 N  \n",
       "4   Nebraska    Short                 Y  "
      ]
     },
     "execution_count": 90,
     "metadata": {},
     "output_type": "execute_result"
    }
   ],
   "source": [
    "df.head()"
   ]
  },
  {
   "cell_type": "code",
   "execution_count": 91,
   "metadata": {},
   "outputs": [
    {
     "data": {
      "text/plain": [
       "<Axes: xlabel='DayOfWeek'>"
      ]
     },
     "execution_count": 91,
     "metadata": {},
     "output_type": "execute_result"
    },
    {
     "data": {
      "image/png": "[encoded data removed]",
      "text/plain": [
       "<Figure size 640x480 with 1 Axes>"
      ]
     },
     "metadata": {},
     "output_type": "display_data"
    }
   ],
   "source": [
    "df[['DayOfWeek', 'dep_delayed_15min']].groupby(\n",
    "    'DayOfWeek').value_counts(normalize=True).unstack().plot(kind='bar', stacked=False)"
   ]
  },
  {
   "cell_type": "code",
   "execution_count": 92,
   "metadata": {},
   "outputs": [
    {
     "data": {
      "text/plain": [
       "count    100000.00000\n",
       "mean          3.95183\n",
       "std           1.99164\n",
       "min           1.00000\n",
       "25%           2.00000\n",
       "50%           4.00000\n",
       "75%           6.00000\n",
       "max           7.00000\n",
       "Name: DayOfWeek, dtype: float64"
      ]
     },
     "execution_count": 92,
     "metadata": {},
     "output_type": "execute_result"
    }
   ],
   "source": [
    "df['DayOfWeek'].describe()"
   ]
  },
  {
   "cell_type": "markdown",
   "metadata": {},
   "source": [
    "I want to plot the unique carrier number of flights (also with the delay and not deelay) by weighting them inversally w.r.t. the number of flights"
   ]
  },
  {
   "cell_type": "code",
   "execution_count": 93,
   "metadata": {},
   "outputs": [
    {
     "data": {
      "text/plain": [
       "<Axes: xlabel='UniqueCarrier'>"
      ]
     },
     "execution_count": 93,
     "metadata": {},
     "output_type": "execute_result"
    },
    {
     "data": {
      "image/png": "[encoded data removed]",
      "text/plain": [
       "<Figure size 1500x500 with 1 Axes>"
      ]
     },
     "metadata": {},
     "output_type": "display_data"
    }
   ],
   "source": [
    "df[['UniqueCarrier', 'dep_delayed_15min']].groupby(\n",
    "    'UniqueCarrier').value_counts(normalize=True).unstack().plot(kind='bar', stacked=False, figsize=(15, 5))"
   ]
  },
  {
   "cell_type": "code",
   "execution_count": 94,
   "metadata": {},
   "outputs": [],
   "source": [
    "df['Weekend'] = data['DayOfWeek'].apply(lambda x: 1 if x in [6, 7] else 0)"
   ]
  },
  {
   "cell_type": "code",
   "execution_count": 95,
   "metadata": {},
   "outputs": [
    {
     "data": {
      "text/html": [
       "<div>\n",
       "<style scoped>\n",
       "    .dataframe tbody tr th:only-of-type {\n",
       "        vertical-align: middle;\n",
       "    }\n",
       "\n",
       "    .dataframe tbody tr th {\n",
       "        vertical-align: top;\n",
       "    }\n",
       "\n",
       "    .dataframe thead th {\n",
       "        text-align: right;\n",
       "    }\n",
       "</style>\n",
       "<table border=\"1\" class=\"dataframe\">\n",
       "  <thead>\n",
       "    <tr style=\"text-align: right;\">\n",
       "      <th></th>\n",
       "      <th>Month</th>\n",
       "      <th>DayofMonth</th>\n",
       "      <th>DayOfWeek</th>\n",
       "      <th>DepTime</th>\n",
       "      <th>UniqueCarrier</th>\n",
       "      <th>Origin</th>\n",
       "      <th>Dest</th>\n",
       "      <th>Distance</th>\n",
       "      <th>dep_delayed_15min</th>\n",
       "      <th>Weekend</th>\n",
       "    </tr>\n",
       "  </thead>\n",
       "  <tbody>\n",
       "    <tr>\n",
       "      <th>0</th>\n",
       "      <td>8</td>\n",
       "      <td>21</td>\n",
       "      <td>7</td>\n",
       "      <td>Evening</td>\n",
       "      <td>AA</td>\n",
       "      <td>Georgia</td>\n",
       "      <td>Texas</td>\n",
       "      <td>Long</td>\n",
       "      <td>N</td>\n",
       "      <td>0</td>\n",
       "    </tr>\n",
       "    <tr>\n",
       "      <th>1</th>\n",
       "      <td>4</td>\n",
       "      <td>20</td>\n",
       "      <td>3</td>\n",
       "      <td>Afternoon</td>\n",
       "      <td>US</td>\n",
       "      <td>Pennsylvania</td>\n",
       "      <td>Florida</td>\n",
       "      <td>Long</td>\n",
       "      <td>N</td>\n",
       "      <td>0</td>\n",
       "    </tr>\n",
       "    <tr>\n",
       "      <th>2</th>\n",
       "      <td>9</td>\n",
       "      <td>2</td>\n",
       "      <td>5</td>\n",
       "      <td>Afternoon</td>\n",
       "      <td>XE</td>\n",
       "      <td>North Carolina</td>\n",
       "      <td>Ohio</td>\n",
       "      <td>Short</td>\n",
       "      <td>N</td>\n",
       "      <td>0</td>\n",
       "    </tr>\n",
       "    <tr>\n",
       "      <th>3</th>\n",
       "      <td>11</td>\n",
       "      <td>25</td>\n",
       "      <td>6</td>\n",
       "      <td>Morning</td>\n",
       "      <td>OO</td>\n",
       "      <td>Colorado</td>\n",
       "      <td>Tennessee</td>\n",
       "      <td>Long</td>\n",
       "      <td>N</td>\n",
       "      <td>0</td>\n",
       "    </tr>\n",
       "    <tr>\n",
       "      <th>4</th>\n",
       "      <td>10</td>\n",
       "      <td>7</td>\n",
       "      <td>6</td>\n",
       "      <td>Evening</td>\n",
       "      <td>WN</td>\n",
       "      <td>Illinois</td>\n",
       "      <td>Nebraska</td>\n",
       "      <td>Short</td>\n",
       "      <td>Y</td>\n",
       "      <td>0</td>\n",
       "    </tr>\n",
       "  </tbody>\n",
       "</table>\n",
       "</div>"
      ],
      "text/plain": [
       "   Month  DayofMonth  DayOfWeek    DepTime UniqueCarrier          Origin  \\\n",
       "0      8          21          7    Evening            AA         Georgia   \n",
       "1      4          20          3  Afternoon            US    Pennsylvania   \n",
       "2      9           2          5  Afternoon            XE  North Carolina   \n",
       "3     11          25          6    Morning            OO        Colorado   \n",
       "4     10           7          6    Evening            WN        Illinois   \n",
       "\n",
       "        Dest Distance dep_delayed_15min  Weekend  \n",
       "0      Texas     Long                 N        0  \n",
       "1    Florida     Long                 N        0  \n",
       "2       Ohio    Short                 N        0  \n",
       "3  Tennessee     Long                 N        0  \n",
       "4   Nebraska    Short                 Y        0  "
      ]
     },
     "execution_count": 95,
     "metadata": {},
     "output_type": "execute_result"
    }
   ],
   "source": [
    "df.head()"
   ]
  },
  {
   "cell_type": "code",
   "execution_count": 96,
   "metadata": {},
   "outputs": [],
   "source": [
    "def season(month, day):\n",
    "    # return the season based on month and day\n",
    "\n",
    "    complete_num = f\"{month}{day}\"\n",
    "    complete_num = int(complete_num)\n",
    "\n",
    "    if 320 <= complete_num <= 620:\n",
    "        return 'Spring'\n",
    "    elif 621 <= complete_num <= 922:\n",
    "        return 'Summer'\n",
    "    elif 923 <= complete_num <= 1221:\n",
    "        return 'Fall'\n",
    "    else:\n",
    "        return 'Winter'"
   ]
  },
  {
   "cell_type": "code",
   "execution_count": 97,
   "metadata": {},
   "outputs": [],
   "source": [
    "df['Season'] = df.apply(lambda x: season(x['Month'], x['DayofMonth']), axis=1)"
   ]
  },
  {
   "cell_type": "code",
   "execution_count": 98,
   "metadata": {},
   "outputs": [
    {
     "data": {
      "text/plain": [
       "<Axes: xlabel='Season'>"
      ]
     },
     "execution_count": 98,
     "metadata": {},
     "output_type": "execute_result"
    },
    {
     "data": {
      "image/png": "[encoded data removed]",
      "text/plain": [
       "<Figure size 640x480 with 1 Axes>"
      ]
     },
     "metadata": {},
     "output_type": "display_data"
    }
   ],
   "source": [
    "df[['Season', 'dep_delayed_15min']].groupby(\n",
    "    'Season').value_counts(normalize=True).unstack().plot(kind='bar', stacked=False)"
   ]
  },
  {
   "cell_type": "code",
   "execution_count": 99,
   "metadata": {},
   "outputs": [],
   "source": [
    "df['dep_delayed_15min'] = df['dep_delayed_15min'].apply(lambda x: 1 if x == 'Y' else 0)\n",
    "df.rename(columns={'dep_delayed_15min': 'Delayed'}, inplace=True)"
   ]
  },
  {
   "cell_type": "code",
   "execution_count": 100,
   "metadata": {},
   "outputs": [],
   "source": [
    "df = df.reindex(columns=['Month', 'DayofMonth', 'DayOfWeek', 'DepTime', 'Distance', 'Origin', 'Dest', 'UniqueCarrier', 'Weekend', 'Season', 'Delayed'])"
   ]
  },
  {
   "cell_type": "code",
   "execution_count": 101,
   "metadata": {},
   "outputs": [
    {
     "data": {
      "text/html": [
       "<div>\n",
       "<style scoped>\n",
       "    .dataframe tbody tr th:only-of-type {\n",
       "        vertical-align: middle;\n",
       "    }\n",
       "\n",
       "    .dataframe tbody tr th {\n",
       "        vertical-align: top;\n",
       "    }\n",
       "\n",
       "    .dataframe thead th {\n",
       "        text-align: right;\n",
       "    }\n",
       "</style>\n",
       "<table border=\"1\" class=\"dataframe\">\n",
       "  <thead>\n",
       "    <tr style=\"text-align: right;\">\n",
       "      <th></th>\n",
       "      <th>Month</th>\n",
       "      <th>DayofMonth</th>\n",
       "      <th>DayOfWeek</th>\n",
       "      <th>DepTime</th>\n",
       "      <th>Distance</th>\n",
       "      <th>Origin</th>\n",
       "      <th>Dest</th>\n",
       "      <th>UniqueCarrier</th>\n",
       "      <th>Weekend</th>\n",
       "      <th>Season</th>\n",
       "      <th>Delayed</th>\n",
       "    </tr>\n",
       "  </thead>\n",
       "  <tbody>\n",
       "    <tr>\n",
       "      <th>0</th>\n",
       "      <td>8</td>\n",
       "      <td>21</td>\n",
       "      <td>7</td>\n",
       "      <td>Evening</td>\n",
       "      <td>Long</td>\n",
       "      <td>Georgia</td>\n",
       "      <td>Texas</td>\n",
       "      <td>AA</td>\n",
       "      <td>0</td>\n",
       "      <td>Summer</td>\n",
       "      <td>0</td>\n",
       "    </tr>\n",
       "    <tr>\n",
       "      <th>1</th>\n",
       "      <td>4</td>\n",
       "      <td>20</td>\n",
       "      <td>3</td>\n",
       "      <td>Afternoon</td>\n",
       "      <td>Long</td>\n",
       "      <td>Pennsylvania</td>\n",
       "      <td>Florida</td>\n",
       "      <td>US</td>\n",
       "      <td>0</td>\n",
       "      <td>Spring</td>\n",
       "      <td>0</td>\n",
       "    </tr>\n",
       "    <tr>\n",
       "      <th>2</th>\n",
       "      <td>9</td>\n",
       "      <td>2</td>\n",
       "      <td>5</td>\n",
       "      <td>Afternoon</td>\n",
       "      <td>Short</td>\n",
       "      <td>North Carolina</td>\n",
       "      <td>Ohio</td>\n",
       "      <td>XE</td>\n",
       "      <td>0</td>\n",
       "      <td>Winter</td>\n",
       "      <td>0</td>\n",
       "    </tr>\n",
       "    <tr>\n",
       "      <th>3</th>\n",
       "      <td>11</td>\n",
       "      <td>25</td>\n",
       "      <td>6</td>\n",
       "      <td>Morning</td>\n",
       "      <td>Long</td>\n",
       "      <td>Colorado</td>\n",
       "      <td>Tennessee</td>\n",
       "      <td>OO</td>\n",
       "      <td>0</td>\n",
       "      <td>Fall</td>\n",
       "      <td>0</td>\n",
       "    </tr>\n",
       "    <tr>\n",
       "      <th>4</th>\n",
       "      <td>10</td>\n",
       "      <td>7</td>\n",
       "      <td>6</td>\n",
       "      <td>Evening</td>\n",
       "      <td>Short</td>\n",
       "      <td>Illinois</td>\n",
       "      <td>Nebraska</td>\n",
       "      <td>WN</td>\n",
       "      <td>0</td>\n",
       "      <td>Winter</td>\n",
       "      <td>1</td>\n",
       "    </tr>\n",
       "  </tbody>\n",
       "</table>\n",
       "</div>"
      ],
      "text/plain": [
       "   Month  DayofMonth  DayOfWeek    DepTime Distance          Origin  \\\n",
       "0      8          21          7    Evening     Long         Georgia   \n",
       "1      4          20          3  Afternoon     Long    Pennsylvania   \n",
       "2      9           2          5  Afternoon    Short  North Carolina   \n",
       "3     11          25          6    Morning     Long        Colorado   \n",
       "4     10           7          6    Evening    Short        Illinois   \n",
       "\n",
       "        Dest UniqueCarrier  Weekend  Season  Delayed  \n",
       "0      Texas            AA        0  Summer        0  \n",
       "1    Florida            US        0  Spring        0  \n",
       "2       Ohio            XE        0  Winter        0  \n",
       "3  Tennessee            OO        0    Fall        0  \n",
       "4   Nebraska            WN        0  Winter        1  "
      ]
     },
     "execution_count": 101,
     "metadata": {},
     "output_type": "execute_result"
    }
   ],
   "source": [
    "df.head()"
   ]
  },
  {
   "cell_type": "code",
   "execution_count": 102,
   "metadata": {},
   "outputs": [],
   "source": [
    "from pgmpy.models import BayesianNetwork\n",
    "from pgmpy.inference import VariableElimination\n",
    "\n",
    "from collections import defaultdict\n",
    "\n",
    "import networkx as nx"
   ]
  },
  {
   "cell_type": "markdown",
   "metadata": {},
   "source": [
    "# Naive Bayes"
   ]
  },
  {
   "cell_type": "code",
   "execution_count": 103,
   "metadata": {},
   "outputs": [],
   "source": [
    "nb_model = BayesianNetwork([('Delayed', 'Month'), ('Delayed', 'DayofMonth'), ('Delayed', 'DayOfWeek'), ('Delayed', 'DepTime'), ('Delayed', 'Distance'), ('Delayed', 'Origin'), ('Delayed', 'Dest'), ('Delayed', 'UniqueCarrier'), ('Delayed', 'Weekend'), ('Delayed', 'Season')])"
   ]
  },
  {
   "cell_type": "code",
   "execution_count": 104,
   "metadata": {},
   "outputs": [
    {
     "data": {
      "text/plain": [
       "NodeView(('Delayed', 'Month', 'DayofMonth', 'DayOfWeek', 'DepTime', 'Distance', 'Origin', 'Dest', 'UniqueCarrier', 'Weekend', 'Season'))"
      ]
     },
     "execution_count": 104,
     "metadata": {},
     "output_type": "execute_result"
    }
   ],
   "source": [
    "nb_model.nodes()"
   ]
  },
  {
   "cell_type": "code",
   "execution_count": 105,
   "metadata": {},
   "outputs": [
    {
     "data": {
      "image/png": "[encoded data removed]",
      "text/plain": [
       "<Figure size 640x480 with 1 Axes>"
      ]
     },
     "metadata": {},
     "output_type": "display_data"
    },
    {
     "name": "stdout",
     "output_type": "stream",
     "text": [
      "CPU times: user 351 ms, sys: 304 ms, total: 655 ms\n",
      "Wall time: 284 ms\n"
     ]
    }
   ],
   "source": [
    "%%time\n",
    "nx.draw_circular(nb_model, with_labels=True, arrowsize=20, node_size=1000, font_size=10, alpha=0.8)\n",
    "plt.show()"
   ]
  },
  {
   "cell_type": "code",
   "execution_count": 106,
   "metadata": {},
   "outputs": [
    {
     "name": "stderr",
     "output_type": "stream",
     "text": [
      "/home/sbrodox/Scrivania/BayesianClassifier/env/lib/python3.10/site-packages/pgmpy/estimators/base.py:170: FutureWarning: The default of observed=False is deprecated and will be changed to True in a future version of pandas. Pass observed=False to retain current behavior or observed=True to adopt the future default and silence this warning.\n",
      "  data.groupby([variable] + parents).size().unstack(parents)\n",
      "/home/sbrodox/Scrivania/BayesianClassifier/env/lib/python3.10/site-packages/pgmpy/estimators/base.py:170: FutureWarning: The default of observed=False is deprecated and will be changed to True in a future version of pandas. Pass observed=False to retain current behavior or observed=True to adopt the future default and silence this warning.\n",
      "  data.groupby([variable] + parents).size().unstack(parents)\n"
     ]
    },
    {
     "name": "stdout",
     "output_type": "stream",
     "text": [
      "The NB model has no errors.\n"
     ]
    }
   ],
   "source": [
    "nb_model.fit(df)\n",
    "nb_cpds = nb_model.get_cpds()\n",
    "if not nb_model.check_model():\n",
    "    print('The NB model has errors.')\n",
    "else:\n",
    "    print('The NB model has no errors.')"
   ]
  },
  {
   "cell_type": "code",
   "execution_count": 107,
   "metadata": {},
   "outputs": [],
   "source": [
    "def predict(data, inf, target_variable):\n",
    "    '''\n",
    "    Given a Dataframe, an inference object and a target variable,\n",
    "    perform prediction and return the obtained results\n",
    "    '''\n",
    "    results = defaultdict(list)\n",
    "    for _, data_point in data.iterrows():\n",
    "        if 'index' in data_point:\n",
    "            del data_point['index']\n",
    "        result = inf.query(\n",
    "            variables=[target_variable],\n",
    "            evidence=data_point.to_dict(),\n",
    "            show_progress=True,\n",
    "        )\n",
    "        values = result.state_names[target_variable]\n",
    "        for i, val in enumerate(values):\n",
    "            results[val].append(result.values[i])\n",
    "    return results"
   ]
  },
  {
   "cell_type": "code",
   "execution_count": 108,
   "metadata": {},
   "outputs": [
    {
     "ename": "KeyError",
     "evalue": "nan",
     "output_type": "error",
     "traceback": [
      "\u001b[0;31m---------------------------------------------------------------------------\u001b[0m",
      "\u001b[0;31mKeyError\u001b[0m                                  Traceback (most recent call last)",
      "\u001b[1;32m/home/sbrodox/Scrivania/BayesianClassifier/notebook.ipynb Cell 40\u001b[0m line \u001b[0;36m2\n\u001b[1;32m      <a href='vscode-notebook-cell:/home/sbrodox/Scrivania/BayesianClassifier/notebook.ipynb#X54sZmlsZQ%3D%3D?line=0'>1</a>\u001b[0m nb_inference \u001b[39m=\u001b[39m VariableElimination(nb_model)\n\u001b[0;32m----> <a href='vscode-notebook-cell:/home/sbrodox/Scrivania/BayesianClassifier/notebook.ipynb#X54sZmlsZQ%3D%3D?line=1'>2</a>\u001b[0m nb_results \u001b[39m=\u001b[39m predict(df\u001b[39m.\u001b[39;49mdrop(\u001b[39m'\u001b[39;49m\u001b[39mDelayed\u001b[39;49m\u001b[39m'\u001b[39;49m, axis\u001b[39m=\u001b[39;49m\u001b[39m1\u001b[39;49m)\u001b[39m.\u001b[39;49mreset_index(), nb_inference, \u001b[39m'\u001b[39;49m\u001b[39mDelayed\u001b[39;49m\u001b[39m'\u001b[39;49m)\n\u001b[1;32m      <a href='vscode-notebook-cell:/home/sbrodox/Scrivania/BayesianClassifier/notebook.ipynb#X54sZmlsZQ%3D%3D?line=2'>3</a>\u001b[0m nb_mean_results \u001b[39m=\u001b[39m {}\n\u001b[1;32m      <a href='vscode-notebook-cell:/home/sbrodox/Scrivania/BayesianClassifier/notebook.ipynb#X54sZmlsZQ%3D%3D?line=3'>4</a>\u001b[0m \u001b[39mfor\u001b[39;00m k, v \u001b[39min\u001b[39;00m nb_results\u001b[39m.\u001b[39mitems():\n",
      "\u001b[1;32m/home/sbrodox/Scrivania/BayesianClassifier/notebook.ipynb Cell 40\u001b[0m line \u001b[0;36m1\n\u001b[1;32m      <a href='vscode-notebook-cell:/home/sbrodox/Scrivania/BayesianClassifier/notebook.ipynb#X54sZmlsZQ%3D%3D?line=7'>8</a>\u001b[0m \u001b[39mif\u001b[39;00m \u001b[39m'\u001b[39m\u001b[39mindex\u001b[39m\u001b[39m'\u001b[39m \u001b[39min\u001b[39;00m data_point:\n\u001b[1;32m      <a href='vscode-notebook-cell:/home/sbrodox/Scrivania/BayesianClassifier/notebook.ipynb#X54sZmlsZQ%3D%3D?line=8'>9</a>\u001b[0m     \u001b[39mdel\u001b[39;00m data_point[\u001b[39m'\u001b[39m\u001b[39mindex\u001b[39m\u001b[39m'\u001b[39m]\n\u001b[0;32m---> <a href='vscode-notebook-cell:/home/sbrodox/Scrivania/BayesianClassifier/notebook.ipynb#X54sZmlsZQ%3D%3D?line=9'>10</a>\u001b[0m result \u001b[39m=\u001b[39m inf\u001b[39m.\u001b[39;49mquery(\n\u001b[1;32m     <a href='vscode-notebook-cell:/home/sbrodox/Scrivania/BayesianClassifier/notebook.ipynb#X54sZmlsZQ%3D%3D?line=10'>11</a>\u001b[0m     variables\u001b[39m=\u001b[39;49m[target_variable],\n\u001b[1;32m     <a href='vscode-notebook-cell:/home/sbrodox/Scrivania/BayesianClassifier/notebook.ipynb#X54sZmlsZQ%3D%3D?line=11'>12</a>\u001b[0m     evidence\u001b[39m=\u001b[39;49mdata_point\u001b[39m.\u001b[39;49mto_dict(),\n\u001b[1;32m     <a href='vscode-notebook-cell:/home/sbrodox/Scrivania/BayesianClassifier/notebook.ipynb#X54sZmlsZQ%3D%3D?line=12'>13</a>\u001b[0m     show_progress\u001b[39m=\u001b[39;49m\u001b[39mTrue\u001b[39;49;00m,\n\u001b[1;32m     <a href='vscode-notebook-cell:/home/sbrodox/Scrivania/BayesianClassifier/notebook.ipynb#X54sZmlsZQ%3D%3D?line=13'>14</a>\u001b[0m )\n\u001b[1;32m     <a href='vscode-notebook-cell:/home/sbrodox/Scrivania/BayesianClassifier/notebook.ipynb#X54sZmlsZQ%3D%3D?line=14'>15</a>\u001b[0m values \u001b[39m=\u001b[39m result\u001b[39m.\u001b[39mstate_names[target_variable]\n\u001b[1;32m     <a href='vscode-notebook-cell:/home/sbrodox/Scrivania/BayesianClassifier/notebook.ipynb#X54sZmlsZQ%3D%3D?line=15'>16</a>\u001b[0m \u001b[39mfor\u001b[39;00m i, val \u001b[39min\u001b[39;00m \u001b[39menumerate\u001b[39m(values):\n",
      "File \u001b[0;32m~/Scrivania/BayesianClassifier/env/lib/python3.10/site-packages/pgmpy/inference/ExactInference.py:338\u001b[0m, in \u001b[0;36mVariableElimination.query\u001b[0;34m(self, variables, evidence, virtual_evidence, elimination_order, joint, show_progress)\u001b[0m\n\u001b[1;32m    336\u001b[0m     indexer \u001b[39m=\u001b[39m [\u001b[39mslice\u001b[39m(\u001b[39mNone\u001b[39;00m)] \u001b[39m*\u001b[39m \u001b[39mlen\u001b[39m(phi\u001b[39m.\u001b[39mvariables)\n\u001b[1;32m    337\u001b[0m     \u001b[39mfor\u001b[39;00m index \u001b[39min\u001b[39;00m indexes_to_reduce:\n\u001b[0;32m--> 338\u001b[0m         indexer[index] \u001b[39m=\u001b[39m phi\u001b[39m.\u001b[39;49mget_state_no(\n\u001b[1;32m    339\u001b[0m             phi\u001b[39m.\u001b[39;49mvariables[index], evidence[phi\u001b[39m.\u001b[39;49mvariables[index]]\n\u001b[1;32m    340\u001b[0m         )\n\u001b[1;32m    341\u001b[0m     reduce_indexes\u001b[39m.\u001b[39mappend(\u001b[39mtuple\u001b[39m(indexer))\n\u001b[1;32m    343\u001b[0m \u001b[39m# Step 5.2: Prepare values and index arrays to do use in einsum\u001b[39;00m\n",
      "File \u001b[0;32m~/Scrivania/BayesianClassifier/env/lib/python3.10/site-packages/pgmpy/utils/state_name.py:72\u001b[0m, in \u001b[0;36mStateNameMixin.get_state_no\u001b[0;34m(self, var, state_name)\u001b[0m\n\u001b[1;32m     68\u001b[0m \u001b[39m\u001b[39m\u001b[39m\"\"\"\u001b[39;00m\n\u001b[1;32m     69\u001b[0m \u001b[39mGiven `var` and `state_name` return the state number.\u001b[39;00m\n\u001b[1;32m     70\u001b[0m \u001b[39m\"\"\"\u001b[39;00m\n\u001b[1;32m     71\u001b[0m \u001b[39mif\u001b[39;00m \u001b[39mself\u001b[39m\u001b[39m.\u001b[39mstate_names:\n\u001b[0;32m---> 72\u001b[0m     \u001b[39mreturn\u001b[39;00m \u001b[39mself\u001b[39;49m\u001b[39m.\u001b[39;49mname_to_no[var][state_name]\n\u001b[1;32m     73\u001b[0m \u001b[39melse\u001b[39;00m:\n\u001b[1;32m     74\u001b[0m     \u001b[39mreturn\u001b[39;00m state_name\n",
      "\u001b[0;31mKeyError\u001b[0m: nan"
     ]
    }
   ],
   "source": [
    "nb_inference = VariableElimination(nb_model)\n",
    "nb_results = predict(df.drop('Delayed', axis=1).reset_index(), nb_inference, 'Delayed')\n",
    "nb_mean_results = {}\n",
    "for k, v in nb_results.items():\n",
    "    nb_mean_results[k] = np.nanmean(v)\n",
    "print(nb_mean_results)"
   ]
  },
  {
   "cell_type": "code",
   "execution_count": null,
   "metadata": {},
   "outputs": [],
   "source": []
  }
 ],
 "metadata": {
  "kernelspec": {
   "display_name": ".venv",
   "language": "python",
   "name": "python3"
  },
  "language_info": {
   "codemirror_mode": {
    "name": "ipython",
    "version": 3
   },
   "file_extension": ".py",
   "mimetype": "text/x-python",
   "name": "python",
   "nbconvert_exporter": "python",
   "pygments_lexer": "ipython3",
   "version": "3.10.12"
  }
 },
 "nbformat": 4,
 "nbformat_minor": 2
}
