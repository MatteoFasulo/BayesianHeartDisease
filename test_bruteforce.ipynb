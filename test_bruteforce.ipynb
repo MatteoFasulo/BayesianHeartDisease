{
 "cells": [
  {
   "cell_type": "code",
   "execution_count": null,
   "metadata": {},
   "outputs": [],
   "source": [
    "import os\n",
    "\n",
    "import pandas as pd\n",
    "import matplotlib.pyplot as plt\n",
    "import numpy as np\n",
    "\n",
    "import networkx as nx\n",
    "\n",
    "from pgmpy.models import BayesianNetwork\n",
    "from pgmpy.estimators import *\n",
    "from pgmpy.inference import VariableElimination\n",
    "from pgmpy.metrics import *\n",
    "from pgmpy.metrics.bn_inference import *\n",
    "from pgmpy.readwrite import XMLBIFWriter\n",
    "\n",
    "from sklearn.model_selection import train_test_split\n",
    "from sklearn.metrics import *\n",
    "\n",
    "import warnings\n",
    "\n",
    "warnings.filterwarnings(\"ignore\")"
   ]
  },
  {
   "cell_type": "code",
   "execution_count": null,
   "metadata": {},
   "outputs": [],
   "source": [
    "df = pd.read_csv(f'data{os.sep}heart.csv')\n",
    "df = df[~(df['Cholesterol'] == 0) & ~(df['RestingBP'] == 0)]"
   ]
  },
  {
   "cell_type": "code",
   "execution_count": null,
   "metadata": {},
   "outputs": [],
   "source": [
    "df = df[~(df['Cholesterol'] == 0) & ~(df['RestingBP'] == 0)]\n",
    "\n",
    "df['ExerciseAngina'] = df['ExerciseAngina'].apply(\n",
    "    lambda x: False if x == 'N' else True)\n",
    "df['HeartDisease'] = df['HeartDisease'].apply(\n",
    "    lambda x: False if x == 0 else True)\n",
    "\n",
    "df['FastingBS'] = df['FastingBS'].apply(lambda x: False if x == 0 else True)\n",
    "df[\"Age\"] = pd.cut(x=df[\"Age\"], bins=[20, 30, 40, 50, 60, 70, 80], labels=[\n",
    "                   \"20-30\", \"30-40\", \"40-50\", \"50-60\", \"60-70\", \"70-80\"])\n",
    "df[\"RestingBP\"] = pd.cut(x=df[\"RestingBP\"], bins=[90, 120, 140, np.Inf], labels=[\n",
    "                         \"normal\", \"high\", \"very-high\"])\n",
    "df[\"Cholesterol\"] = pd.cut(x=df[\"Cholesterol\"], bins=[\n",
    "                           0, 200, 240, np.Inf], labels=[\"optimal\", \"borderline\", \"high\"])\n",
    "df[\"MaxHR\"] = pd.qcut(x=df[\"MaxHR\"], q=4, labels=[\"low\", \"medium\", \"high\", \"very-high\"])\n",
    "df[\"Oldpeak\"] = pd.cut(x=df[\"Oldpeak\"], bins=[-np.Inf, 0.5, 1, 2, np.Inf], labels=[\n",
    "                       \"<=0.5\", \"0-5-1\", \"1-2\", \"2+\"])"
   ]
  },
  {
   "cell_type": "code",
   "execution_count": null,
   "metadata": {},
   "outputs": [],
   "source": [
    "target_variable = \"HeartDisease\"\n",
    "X, y = df.drop(columns=target_variable), df[target_variable]\n",
    "\n",
    "X_train, X_test, y_train, y_test = train_test_split(X, y, test_size=0.15, random_state=42, shuffle=True)\n",
    "train = pd.concat([X_train, y_train], axis=1)\n",
    "test = pd.concat([X_test, y_test], axis=1)"
   ]
  },
  {
   "cell_type": "code",
   "execution_count": null,
   "metadata": {},
   "outputs": [],
   "source": [
    "network = BayesianNetwork()"
   ]
  },
  {
   "cell_type": "code",
   "execution_count": null,
   "metadata": {},
   "outputs": [],
   "source": [
    "nodes = list(df.columns)"
   ]
  },
  {
   "cell_type": "code",
   "execution_count": null,
   "metadata": {},
   "outputs": [],
   "source": [
    "for _ in nodes:\n",
    "    network.add_node(_)"
   ]
  },
  {
   "cell_type": "code",
   "execution_count": null,
   "metadata": {},
   "outputs": [],
   "source": [
    "pos = nx.nx_agraph.graphviz_layout(network, prog=\"dot\")\n",
    "\n",
    "nx.draw(network, pos, with_labels=True, node_size=1000,\n",
    "        font_size=8, arrowsize=20, alpha=0.8)"
   ]
  },
  {
   "cell_type": "code",
   "execution_count": null,
   "metadata": {},
   "outputs": [],
   "source": [
    "for i in range(10):\n",
    "    scores = []\n",
    "    for source in nodes:\n",
    "        for destination in nodes:\n",
    "            if source == destination:\n",
    "                continue\n",
    "            had_edge = network.has_edge(source, destination)\n",
    "            if not network.has_edge(source, destination):\n",
    "                try:\n",
    "                    network.add_edge(source ,destination)\n",
    "                    network.cpds = []\n",
    "                    print(source, \"->\", destination)\n",
    "                    network.fit(X_train.join(y_train), estimator=BayesianEstimator, prior_type=\"BDeu\")\n",
    "                    ypred = network.predict(X_test)\n",
    "                    print(source, \"->\", destination)\n",
    "                    score = fbeta_score(y_test, ypred, beta=2)\n",
    "                    print(score)\n",
    "                    network.remove_edge(source, destination)\n",
    "                    scores.append((source, destination, score))\n",
    "                except Exception as e:\n",
    "                    print(e)\n",
    "                    if not had_edge and network.has_edge(source, destination):\n",
    "                        network.remove_edge(source, destination)\n",
    "    \n",
    "    top = max(scores, key=lambda x: x[2])\n",
    "    network.add_edge(top[0], top[1])\n"
   ]
  },
  {
   "cell_type": "code",
   "execution_count": null,
   "metadata": {},
   "outputs": [],
   "source": [
    "top = max(scores, key=lambda x: x[2])\n"
   ]
  },
  {
   "cell_type": "code",
   "execution_count": null,
   "metadata": {},
   "outputs": [],
   "source": [
    "sorted(scores, key=lambda x: x[2], reverse=True)"
   ]
  },
  {
   "cell_type": "code",
   "execution_count": null,
   "metadata": {},
   "outputs": [],
   "source": [
    "top"
   ]
  },
  {
   "cell_type": "code",
   "execution_count": null,
   "metadata": {},
   "outputs": [],
   "source": [
    "top"
   ]
  },
  {
   "cell_type": "code",
   "execution_count": null,
   "metadata": {},
   "outputs": [],
   "source": [
    "network.add_edge(top[0], top[1])"
   ]
  },
  {
   "cell_type": "code",
   "execution_count": null,
   "metadata": {},
   "outputs": [],
   "source": []
  }
 ],
 "metadata": {
  "kernelspec": {
   "display_name": "env",
   "language": "python",
   "name": "python3"
  },
  "language_info": {
   "codemirror_mode": {
    "name": "ipython",
    "version": 3
   },
   "file_extension": ".py",
   "mimetype": "text/x-python",
   "name": "python",
   "nbconvert_exporter": "python",
   "pygments_lexer": "ipython3",
   "version": "3.10.12"
  }
 },
 "nbformat": 4,
 "nbformat_minor": 2
}
